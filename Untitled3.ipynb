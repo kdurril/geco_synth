{
 "metadata": {
  "name": ""
 },
 "nbformat": 3,
 "nbformat_minor": 0,
 "worksheets": [
  {
   "cells": [
    {
     "cell_type": "code",
     "collapsed": false,
     "input": [
      "import random\n",
      "from time import gmtime, strftime\n",
      "\n",
      "def generate_DOB(age=65):\n",
      "\n",
      "  \"\"\"Randomly generate a month & date for DOB \"\"\"\n",
      "  \n",
      "  \n",
      "  birth_month = random.randint(1,12)\n",
      "  if birth_month == \"1\" or \"3\" or \"5\" or \"7\" or \"8\" or \"10\" or \"12\":\n",
      "  \tbirth_day = random.randint(1,31)\n",
      "  if birth_month == \"2\":\n",
      "  \tbirth_day = random.randint(1,28)\n",
      "  else:\n",
      "  \tbirth_day = random.randint(1,30)\n",
      "  \n",
      "  \"\"\"Can not use the age generator function here for some reason but this code\n",
      "  worked on generate_data_english.py.  For now, passing dummy age into the function\n",
      "  to make it work for the time being.  I did input reference to import generator in\n",
      "  the beginning of the program but got stuck on 'unicode_encoding' \n",
      "  \n",
      "  age = generator.GenerateFreqAlt(attribute_name = 'agejy',\n",
      "                    freq_file_name = 'lookup-files/age_gender_ratio_female.csv',\n",
      "                    has_header_line = False,\n",
      "                    unicode_encoding = unicode_encoding_used) \"\"\"\n",
      "\n",
      "  year_system = strftime (\"%Y\", gmtime())\n",
      "  year_from_age = int(year_system) - age\n",
      "  DOB = str(birth_month) +'/' + str(birth_day) + '/' + str(year_from_age)\n",
      "  return DOB"
     ],
     "language": "python",
     "metadata": {},
     "outputs": []
    }
   ],
   "metadata": {}
  }
 ]
}