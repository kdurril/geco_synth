{
 "metadata": {
  "name": "",
  "signature": "sha256:09a6f3bcfc07fbb0914d927dbe6df6d8c89288dce98ceedd80842412c3d3ea9b"
 },
 "nbformat": 3,
 "nbformat_minor": 0,
 "worksheets": [
  {
   "cells": [
    {
     "cell_type": "code",
     "collapsed": false,
     "input": [
      "import attrgenfunct"
     ],
     "language": "python",
     "metadata": {},
     "outputs": [],
     "prompt_number": 28
    },
    {
     "cell_type": "code",
     "collapsed": false,
     "input": [
      "from generator import GenerateFreqAttribute, GenerateFreqAlt, GenerateCateCateCompoundAttribute, GenerateFuncAttribute"
     ],
     "language": "python",
     "metadata": {},
     "outputs": [],
     "prompt_number": 29
    },
    {
     "cell_type": "code",
     "collapsed": false,
     "input": [
      "unicode_encoding_used = 'ascii'\n",
      "gen_test = GenerateFreqAlt(attribute_name = 'given-name',\n",
      "                          freq_file_name = '../geco-data-generator-corruptor/lookup-files/givenname_f_freq.csv',\n",
      "                          has_header_line = False,\n",
      "                          unicode_encoding = unicode_encoding_used)"
     ],
     "language": "python",
     "metadata": {},
     "outputs": [],
     "prompt_number": 30
    },
    {
     "cell_type": "code",
     "collapsed": false,
     "input": [
      "gen_test.random_pick()"
     ],
     "language": "python",
     "metadata": {},
     "outputs": [
      {
       "metadata": {},
       "output_type": "pyout",
       "prompt_number": 31,
       "text": [
        "u'annabelle'"
       ]
      }
     ],
     "prompt_number": 31
    },
    {
     "cell_type": "code",
     "collapsed": false,
     "input": [
      "unicode_encoding_used = 'ascii'\n",
      "race_test = GenerateFreqAlt(attribute_name = 'race-hispanic',\n",
      "                          freq_file_name = '../geco-data-generator-corruptor/lookup-files/race_w_hispanic_ascii.csv',\n",
      "                          has_header_line = False,\n",
      "                          unicode_encoding = unicode_encoding_used)"
     ],
     "language": "python",
     "metadata": {},
     "outputs": [],
     "prompt_number": 4
    },
    {
     "cell_type": "code",
     "collapsed": false,
     "input": [
      "race_test.random_pick()"
     ],
     "language": "python",
     "metadata": {},
     "outputs": [
      {
       "metadata": {},
       "output_type": "pyout",
       "prompt_number": 5,
       "text": [
        "u'NOT HISPANIC..Black or African American'"
       ]
      }
     ],
     "prompt_number": 5
    },
    {
     "cell_type": "code",
     "collapsed": false,
     "input": [
      "newf = [gen_test.random_pick() for x in range(4000)]"
     ],
     "language": "python",
     "metadata": {},
     "outputs": [],
     "prompt_number": 6
    },
    {
     "cell_type": "code",
     "collapsed": false,
     "input": [
      "oldf = [gen_test.create_attribute_value() for x in range(4000)]"
     ],
     "language": "python",
     "metadata": {},
     "outputs": [],
     "prompt_number": 7
    },
    {
     "cell_type": "code",
     "collapsed": false,
     "input": [
      "print(oldf.count('gillian'), newf.count('gillian'))"
     ],
     "language": "python",
     "metadata": {},
     "outputs": [
      {
       "output_type": "stream",
       "stream": "stdout",
       "text": [
        "(10, 2)\n"
       ]
      }
     ],
     "prompt_number": 8
    },
    {
     "cell_type": "code",
     "collapsed": false,
     "input": [
      "def race_historgram():\n",
      "    \n",
      "    race_test1 = [race_test.random_pick() for x in range(4000)]\n",
      "    race_set = {x for x in race_test1}\n",
      "    container = list()\n",
      "    for x in race_set:\n",
      "        container.append((x, race_test1.count(x)))\n",
      "    return container\n",
      "    \n",
      "        \n",
      "       \n",
      "    \n",
      "    "
     ],
     "language": "python",
     "metadata": {},
     "outputs": [],
     "prompt_number": 9
    },
    {
     "cell_type": "code",
     "collapsed": false,
     "input": [
      "race_historgram()"
     ],
     "language": "python",
     "metadata": {},
     "outputs": [
      {
       "metadata": {},
       "output_type": "pyout",
       "prompt_number": 10,
       "text": [
        "[(u'Hispanic..American Indian and Alaska Native', 18),\n",
        " (u'NOT HISPANIC..White; Asian', 23),\n",
        " (u'Hispanic..American Indian and Alaska Native; Native Hawaiian and Other Pacific Islander',\n",
        "  1),\n",
        " (u'NOT HISPANIC..Black or African American; American Indian and Alaska Native',\n",
        "  2),\n",
        " (u'Hispanic..White; Native Hawaiian and Other Pacific Islander', 1),\n",
        " (u'HispanicThree or more races', 6),\n",
        " (u'NOT HISPANIC..Native Hawaiian and Other Pacific Islander', 6),\n",
        " (u'NOT HISPANIC..Black or African American; Asian', 2),\n",
        " (u'Hispanic..White; Asian', 1),\n",
        " (u'NOT HISPANIC..Asian', 190),\n",
        " (u'NOT HISPANIC..White; Black or African American', 19),\n",
        " (u'Hispanic..Native Hawaiian and Other Pacific Islander', 2),\n",
        " (u'Hispanic..Black or African American', 32),\n",
        " (u'Hispanic..White', 583),\n",
        " (u'NOT HISPANIC..White', 2581),\n",
        " (u'NOT HISPANIC..Black or African American', 460),\n",
        " (u'NOT HISPANIC..White; Native Hawaiian and Other Pacific Islander', 2),\n",
        " (u'NOT HISPANIC..American Indian and Alaska Native', 29),\n",
        " (u'Hispanic..White; Black or African American', 7),\n",
        " (u'Hispanic..Asian', 5),\n",
        " (u'Hispanic..Asian; Native Hawaiian and Other Pacific Islander', 1),\n",
        " (u'Hispanic..Black or African American; American Indian and Alaska Native',\n",
        "  1),\n",
        " (u'NOT HISPANIC..White; American Indian and Alaska Native', 20),\n",
        " (u'NOT HISPANIC..Asian; Native Hawaiian and Other Pacific Islander', 1),\n",
        " (u'NOT HISPANIC..Black or African American; Native Hawaiian and Other Pacific Islander',\n",
        "  1),\n",
        " (u'Hispanic..White; American Indian and Alaska Native', 6)]"
       ]
      }
     ],
     "prompt_number": 10
    },
    {
     "cell_type": "code",
     "collapsed": false,
     "input": [
      "gender_city_comp_attr = \\\n",
      "    GenerateCateCateCompoundAttribute(\\\n",
      "          categorical1_attribute_name = 'gender',\n",
      "          categorical2_attribute_name = 'city',\n",
      "          lookup_file_name = 'lookup-files/gender-city.csv',\n",
      "          has_header_line = True,\n",
      "          unicode_encoding = 'ascii')"
     ],
     "language": "python",
     "metadata": {},
     "outputs": [],
     "prompt_number": 11
    },
    {
     "cell_type": "code",
     "collapsed": false,
     "input": [
      "gender_city_comp_attr.create_attribute_values()"
     ],
     "language": "python",
     "metadata": {},
     "outputs": [
      {
       "metadata": {},
       "output_type": "pyout",
       "prompt_number": 12,
       "text": [
        "(u'male', u'melbourne')"
       ]
      }
     ],
     "prompt_number": 12
    },
    {
     "cell_type": "code",
     "collapsed": false,
     "input": [
      "sname_attr = \\\n",
      "    GenerateFreqAttribute(attribute_name = 'surname',\n",
      "                          freq_file_name = 'lookup-files/surname-freq.csv',\n",
      "                          has_header_line = False,\n",
      "                          unicode_encoding = unicode_encoding_used)\n",
      "email_attr = \\\n",
      "    GenerateFuncAttribute(attribute_name = 'email',\n",
      "          function = attrgenfunct.generate_email_address(fname=\"kenneth\"),\n",
      "          parameters = [str(sname_attr.create_attribute_value())])"
     ],
     "language": "python",
     "metadata": {},
     "outputs": [
      {
       "ename": "Exception",
       "evalue": "function is not a function or method: <type 'str'>",
       "output_type": "pyerr",
       "traceback": [
        "\u001b[0;31m---------------------------------------------------------------------------\u001b[0m\n\u001b[0;31mException\u001b[0m                                 Traceback (most recent call last)",
        "\u001b[0;32m<ipython-input-43-173be1fde86f>\u001b[0m in \u001b[0;36m<module>\u001b[0;34m()\u001b[0m\n\u001b[1;32m      5\u001b[0m email_attr =     GenerateFuncAttribute(attribute_name = 'email',\n\u001b[1;32m      6\u001b[0m           \u001b[0mfunction\u001b[0m \u001b[0;34m=\u001b[0m \u001b[0mattrgenfunct\u001b[0m\u001b[0;34m.\u001b[0m\u001b[0mgenerate_email_address\u001b[0m\u001b[0;34m(\u001b[0m\u001b[0mfname\u001b[0m\u001b[0;34m=\u001b[0m\u001b[0;34m\"kenneth\"\u001b[0m\u001b[0;34m)\u001b[0m\u001b[0;34m,\u001b[0m\u001b[0;34m\u001b[0m\u001b[0m\n\u001b[0;32m----> 7\u001b[0;31m           parameters = [str(sname_attr.create_attribute_value())])\n\u001b[0m",
        "\u001b[0;32m/home/kenneth/Documents/scripts/ddlproj/geco-data-generator-corruptor/generator.pyc\u001b[0m in \u001b[0;36m__init__\u001b[0;34m(self, **kwargs)\u001b[0m\n\u001b[1;32m    425\u001b[0m \u001b[0;34m\u001b[0m\u001b[0m\n\u001b[1;32m    426\u001b[0m       \u001b[0;32mif\u001b[0m \u001b[0;34m(\u001b[0m\u001b[0mkeyword\u001b[0m\u001b[0;34m.\u001b[0m\u001b[0mstartswith\u001b[0m\u001b[0;34m(\u001b[0m\u001b[0;34m'funct'\u001b[0m\u001b[0;34m)\u001b[0m\u001b[0;34m)\u001b[0m\u001b[0;34m:\u001b[0m\u001b[0;34m\u001b[0m\u001b[0m\n\u001b[0;32m--> 427\u001b[0;31m         \u001b[0mbasefunctions\u001b[0m\u001b[0;34m.\u001b[0m\u001b[0mcheck_is_function_or_method\u001b[0m\u001b[0;34m(\u001b[0m\u001b[0;34m'function'\u001b[0m\u001b[0;34m,\u001b[0m \u001b[0mvalue\u001b[0m\u001b[0;34m)\u001b[0m\u001b[0;34m\u001b[0m\u001b[0m\n\u001b[0m\u001b[1;32m    428\u001b[0m         \u001b[0mself\u001b[0m\u001b[0;34m.\u001b[0m\u001b[0mfunction\u001b[0m \u001b[0;34m=\u001b[0m \u001b[0mvalue\u001b[0m\u001b[0;34m\u001b[0m\u001b[0m\n\u001b[1;32m    429\u001b[0m \u001b[0;34m\u001b[0m\u001b[0m\n",
        "\u001b[0;32m/home/kenneth/Documents/scripts/ddlproj/geco-data-generator-corruptor/basefunctions.pyc\u001b[0m in \u001b[0;36mcheck_is_function_or_method\u001b[0;34m(variable, value)\u001b[0m\n\u001b[1;32m    296\u001b[0m   \u001b[0;32mif\u001b[0m \u001b[0;34m(\u001b[0m\u001b[0mtype\u001b[0m\u001b[0;34m(\u001b[0m\u001b[0mvalue\u001b[0m\u001b[0;34m)\u001b[0m \u001b[0;32mnot\u001b[0m \u001b[0;32min\u001b[0m \u001b[0;34m[\u001b[0m\u001b[0mtypes\u001b[0m\u001b[0;34m.\u001b[0m\u001b[0mFunctionType\u001b[0m\u001b[0;34m,\u001b[0m \u001b[0mtypes\u001b[0m\u001b[0;34m.\u001b[0m\u001b[0mMethodType\u001b[0m\u001b[0;34m]\u001b[0m\u001b[0;34m)\u001b[0m\u001b[0;34m:\u001b[0m\u001b[0;34m\u001b[0m\u001b[0m\n\u001b[1;32m    297\u001b[0m     \u001b[0;32mraise\u001b[0m \u001b[0mException\u001b[0m\u001b[0;34m,\u001b[0m \u001b[0;34m'%s is not a function or method: %s'\u001b[0m \u001b[0;34m%\u001b[0m\u001b[0;31m \u001b[0m\u001b[0;31m\\\u001b[0m\u001b[0;34m\u001b[0m\u001b[0m\n\u001b[0;32m--> 298\u001b[0;31m                      \u001b[0;34m(\u001b[0m\u001b[0mstr\u001b[0m\u001b[0;34m(\u001b[0m\u001b[0mvariable\u001b[0m\u001b[0;34m)\u001b[0m\u001b[0;34m,\u001b[0m \u001b[0mtype\u001b[0m\u001b[0;34m(\u001b[0m\u001b[0mvalue\u001b[0m\u001b[0;34m)\u001b[0m\u001b[0;34m)\u001b[0m\u001b[0;34m\u001b[0m\u001b[0m\n\u001b[0m\u001b[1;32m    299\u001b[0m \u001b[0;34m\u001b[0m\u001b[0m\n\u001b[1;32m    300\u001b[0m \u001b[0;31m# -----------------------------------------------------------------------------\u001b[0m\u001b[0;34m\u001b[0m\u001b[0;34m\u001b[0m\u001b[0m\n",
        "\u001b[0;31mException\u001b[0m: function is not a function or method: <type 'str'>"
       ]
      }
     ],
     "prompt_number": 43
    },
    {
     "cell_type": "code",
     "collapsed": false,
     "input": [
      "\n",
      "print([x.create_attribute_value() for x in [sname_attr, email_attr]])"
     ],
     "language": "python",
     "metadata": {},
     "outputs": [
      {
       "output_type": "stream",
       "stream": "stdout",
       "text": [
        "[u'finlay', 'bruhn@aol.com']\n"
       ]
      }
     ],
     "prompt_number": 42
    },
    {
     "cell_type": "code",
     "collapsed": false,
     "input": [
      "pats = (x for x in \"kenneth\")"
     ],
     "language": "python",
     "metadata": {},
     "outputs": [],
     "prompt_number": 44
    },
    {
     "cell_type": "code",
     "collapsed": false,
     "input": [
      "pats.next()\n"
     ],
     "language": "python",
     "metadata": {},
     "outputs": [
      {
       "ename": "StopIteration",
       "evalue": "",
       "output_type": "pyerr",
       "traceback": [
        "\u001b[0;31m---------------------------------------------------------------------------\u001b[0m\n\u001b[0;31mStopIteration\u001b[0m                             Traceback (most recent call last)",
        "\u001b[0;32m<ipython-input-53-5e753ce4d04e>\u001b[0m in \u001b[0;36m<module>\u001b[0;34m()\u001b[0m\n\u001b[0;32m----> 1\u001b[0;31m \u001b[0mpats\u001b[0m\u001b[0;34m.\u001b[0m\u001b[0mnext\u001b[0m\u001b[0;34m(\u001b[0m\u001b[0;34m)\u001b[0m\u001b[0;34m\u001b[0m\u001b[0m\n\u001b[0m",
        "\u001b[0;31mStopIteration\u001b[0m: "
       ]
      }
     ],
     "prompt_number": 53
    }
   ],
   "metadata": {}
  }
 ]
}