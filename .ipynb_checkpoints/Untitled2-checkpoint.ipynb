{
 "metadata": {
  "name": ""
 },
 "nbformat": 3,
 "nbformat_minor": 0,
 "worksheets": [
  {
   "cells": [
    {
     "cell_type": "code",
     "collapsed": false,
     "input": [
      "from english_class import AttrSet\n",
      "import attrgenfunct\n",
      "import generator"
     ],
     "language": "python",
     "metadata": {},
     "outputs": [
      {
       "ename": "AttributeError",
       "evalue": "'str' object has no attribute 'attribute_type'",
       "output_type": "pyerr",
       "traceback": [
        "\u001b[0;31m---------------------------------------------------------------------------\u001b[0m\n\u001b[0;31mAttributeError\u001b[0m                            Traceback (most recent call last)",
        "\u001b[0;32m<ipython-input-1-5cde847a06e9>\u001b[0m in \u001b[0;36m<module>\u001b[0;34m()\u001b[0m\n\u001b[0;32m----> 1\u001b[0;31m \u001b[0;32mfrom\u001b[0m \u001b[0menglish_class\u001b[0m \u001b[0;32mimport\u001b[0m \u001b[0mAttrSet\u001b[0m\u001b[0;34m\u001b[0m\u001b[0m\n\u001b[0m\u001b[1;32m      2\u001b[0m \u001b[0;32mimport\u001b[0m \u001b[0mattrgenfunct\u001b[0m\u001b[0;34m\u001b[0m\u001b[0m\n\u001b[1;32m      3\u001b[0m \u001b[0;32mimport\u001b[0m \u001b[0mgenerator\u001b[0m\u001b[0;34m\u001b[0m\u001b[0m\n",
        "\u001b[0;32m/home/kenneth/Documents/scripts/ddlproj/geco-data-generator-corruptor/english_class.py\u001b[0m in \u001b[0;36m<module>\u001b[0;34m()\u001b[0m\n\u001b[1;32m    279\u001b[0m                                           \u001b[0mattribute_data_list\u001b[0m \u001b[0;34m=\u001b[0m \u001b[0mattr_data_list\u001b[0m\u001b[0;34m,\u001b[0m\u001b[0;34m\u001b[0m\u001b[0m\n\u001b[1;32m    280\u001b[0m                                           \u001b[0municode_encoding\u001b[0m \u001b[0;34m=\u001b[0m\u001b[0;31m \u001b[0m\u001b[0;31m\\\u001b[0m\u001b[0;34m\u001b[0m\u001b[0m\n\u001b[0;32m--> 281\u001b[0;31m                                                          unicode_encoding_used)\n\u001b[0m\u001b[1;32m    282\u001b[0m \u001b[0;34m\u001b[0m\u001b[0m\n\u001b[1;32m    283\u001b[0m \u001b[0;31m# Define the probability distribution of how likely an attribute will be\u001b[0m\u001b[0;34m\u001b[0m\u001b[0;34m\u001b[0m\u001b[0m\n",
        "\u001b[0;32m/home/kenneth/Documents/scripts/ddlproj/geco-data-generator-corruptor/generator.pyc\u001b[0m in \u001b[0;36m__init__\u001b[0;34m(self, **kwargs)\u001b[0m\n\u001b[1;32m   1933\u001b[0m     \u001b[0;32mfor\u001b[0m \u001b[0mattr_data\u001b[0m \u001b[0;32min\u001b[0m \u001b[0mself\u001b[0m\u001b[0;34m.\u001b[0m\u001b[0mattribute_data_list\u001b[0m\u001b[0;34m:\u001b[0m\u001b[0;34m\u001b[0m\u001b[0m\n\u001b[1;32m   1934\u001b[0m \u001b[0;34m\u001b[0m\u001b[0m\n\u001b[0;32m-> 1935\u001b[0;31m       \u001b[0;32mif\u001b[0m \u001b[0;34m(\u001b[0m\u001b[0mattr_data\u001b[0m\u001b[0;34m.\u001b[0m\u001b[0mattribute_type\u001b[0m \u001b[0;34m==\u001b[0m \u001b[0;34m'Compound-Categorical-Categorical'\u001b[0m\u001b[0;34m)\u001b[0m\u001b[0;34m:\u001b[0m\u001b[0;34m\u001b[0m\u001b[0m\n\u001b[0m\u001b[1;32m   1936\u001b[0m         \u001b[0mattr1_name\u001b[0m \u001b[0;34m=\u001b[0m \u001b[0mattr_data\u001b[0m\u001b[0;34m.\u001b[0m\u001b[0mcategorical1_attribute_name\u001b[0m\u001b[0;34m\u001b[0m\u001b[0m\n\u001b[1;32m   1937\u001b[0m         \u001b[0mattr2_name\u001b[0m \u001b[0;34m=\u001b[0m \u001b[0mattr_data\u001b[0m\u001b[0;34m.\u001b[0m\u001b[0mcategorical2_attribute_name\u001b[0m\u001b[0;34m\u001b[0m\u001b[0m\n",
        "\u001b[0;31mAttributeError\u001b[0m: 'str' object has no attribute 'attribute_type'"
       ]
      }
     ],
     "prompt_number": 1
    },
    {
     "cell_type": "code",
     "collapsed": false,
     "input": [
      "a = AttrSet()"
     ],
     "language": "python",
     "metadata": {},
     "outputs": [],
     "prompt_number": 2
    },
    {
     "cell_type": "code",
     "collapsed": false,
     "input": [
      "a.output()"
     ],
     "language": "python",
     "metadata": {},
     "outputs": [
      {
       "metadata": {},
       "output_type": "pyout",
       "prompt_number": 3,
       "text": [
        "[u'grace',\n",
        " 'Ms',\n",
        " u'emma',\n",
        " u'finlay',\n",
        " '',\n",
        " u'NOT HISPANIC',\n",
        " u'White',\n",
        " 'emma.finlay@hotmail.com']"
       ]
      }
     ],
     "prompt_number": 3
    },
    {
     "cell_type": "code",
     "collapsed": false,
     "input": [
      "add_out = [a.nickname_attr, a.postcode_attr, a.phone_num_attr,\n",
      "          a.phone_num_cell_attr, a.phone_num_work_attr, \n",
      "          a.phone_num_home_attr, a.social_security_attr, \n",
      "          a.credit_card_attr, a.age_uniform_attr, a.income_normal_attr,\n",
      "          a.passport_attr, a.new_age_attr, a.DOB_attr]"
     ],
     "language": "python",
     "metadata": {},
     "outputs": [],
     "prompt_number": 5
    },
    {
     "cell_type": "code",
     "collapsed": false,
     "input": [
      "#a.gender_city_comp_attr.create_attribute_values()\n",
      "for attr in add_out:\n",
      "    print(attr.attribute_name, attr.create_attribute_value())"
     ],
     "language": "python",
     "metadata": {},
     "outputs": [
      {
       "output_type": "stream",
       "stream": "stdout",
       "text": [
        "('nickname', '')\n",
        "('postcode', u'2602')\n",
        "('telephone-number', '07 2291 0321')\n",
        "('cell-number', '212 268 2110')\n",
        "('work-number', '812 876 3147')\n",
        "('home-number', '412 396 9145')\n",
        "('social-security-number', '459 27 2467')\n",
        "('credit-card-number', '5614 2628 5846 8978')\n",
        "('age-uniform', '48')\n",
        "('income-normal', '50359.54')\n",
        "('passport-number', '047116376')\n",
        "('age-new', (u'4', 1954885))\n",
        "('DOB', '8/13/1950')\n"
       ]
      }
     ],
     "prompt_number": 7
    },
    {
     "cell_type": "code",
     "collapsed": false,
     "input": [
      "attrgenfunct.generate_email_address(\"kenneth\", \"durril\")"
     ],
     "language": "python",
     "metadata": {},
     "outputs": [
      {
       "metadata": {},
       "output_type": "pyout",
       "prompt_number": 10,
       "text": [
        "'kenneth@yahoo.com'"
       ]
      }
     ],
     "prompt_number": 10
    },
    {
     "cell_type": "code",
     "collapsed": false,
     "input": [
      "AttrSet().output()"
     ],
     "language": "python",
     "metadata": {},
     "outputs": [
      {
       "metadata": {},
       "output_type": "pyout",
       "prompt_number": 7,
       "text": [
        "[u'tayla',\n",
        " 'Miss',\n",
        " u'georgia',\n",
        " u'hathaway',\n",
        " '',\n",
        " u'NOT HISPANIC',\n",
        " u'White',\n",
        " 'georgia.hathaway@live.com']"
       ]
      }
     ],
     "prompt_number": 7
    }
   ],
   "metadata": {}
  }
 ]
}