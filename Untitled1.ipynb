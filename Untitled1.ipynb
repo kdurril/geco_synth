{
 "metadata": {
  "name": ""
 },
 "nbformat": 3,
 "nbformat_minor": 0,
 "worksheets": [
  {
   "cells": [
    {
     "cell_type": "code",
     "collapsed": false,
     "input": [
      "import basefunctions  # Helper functions\n",
      "import attrgenfunct   # Functions to generate independent attribute values\n",
      "import contdepfunct   # Functions to generate dependent continuous attribute\n",
      "                      # values\n",
      "import generator      # Main classes to generate records and the data set\n",
      "import corruptor      # Main classes to corrupt attribute values and records\n",
      "\n",
      "import random\n",
      "random.seed(42)  # Set seed for random generator, so data generation can be\n",
      "                 # repeated"
     ],
     "language": "python",
     "metadata": {},
     "outputs": [],
     "prompt_number": 1
    },
    {
     "cell_type": "code",
     "collapsed": false,
     "input": [
      "# Set the Unicode encoding for this data generation project. This needs to be\n",
      "# changed to another encoding for different Unicode character sets.\n",
      "# Valid encoding strings are listed here:\n",
      "# http://docs.python.org/library/codecs.html#standard-encodings\n",
      "#\n",
      "unicode_encoding_used = 'ascii'\n",
      "\n",
      "# The name of the record identifier attribute (unique value for each record).\n",
      "# This name cannot be given as name to any other attribute that is generated.\n",
      "#\n",
      "rec_id_attr_name = 'rec-id'\n",
      "\n",
      "# Set the file name of the data set to be generated (this will be a comma\n",
      "# separated values, CSV, file).\n",
      "#\n",
      "out_file_name = 'example-data-english.csv'\n",
      "\n",
      "# Set how many original and how many duplicate records are to be generated.\n",
      "#\n",
      "num_org_rec = 20\n",
      "num_dup_rec = 5\n",
      "\n",
      "# Set the maximum number of duplicate records can be generated per original\n",
      "# record.\n",
      "#\n",
      "max_duplicate_per_record = 3\n",
      "\n",
      "# Set the probability distribution used to create the duplicate records for one\n",
      "# original record (possible values are: 'uniform', 'poisson', 'zipf').\n",
      "#\n",
      "num_duplicates_distribution = 'zipf'\n",
      "\n",
      "# Set the maximum number of modification that can be applied to a single\n",
      "# attribute (field).\n",
      "#\n",
      "max_modification_per_attr = 1\n",
      "\n",
      "# Set the number of modification that are to be applied to a record.\n",
      "#\n",
      "num_modification_per_record = 5\n",
      "\n",
      "# Check if the given the unicode encoding selected is valid.\n",
      "#\n",
      "basefunctions.check_unicode_encoding_exists(unicode_encoding_used)"
     ],
     "language": "python",
     "metadata": {},
     "outputs": [],
     "prompt_number": 2
    },
    {
     "cell_type": "code",
     "collapsed": false,
     "input": [
      "name_prefix_attr = \\\n",
      "    generator.GenerateFuncAttribute(attribute_name = 'name-prefix',\n",
      "                       function = attrgenfunct.generate_name_prefix_f)\n",
      "\n",
      "gname_attr = \\\n",
      "    generator.GenerateFreqAttribute(attribute_name = 'given-name',\n",
      "                          freq_file_name = 'lookup-files/givenname_f_freq.csv',\n",
      "                          has_header_line = False,\n",
      "                          unicode_encoding = unicode_encoding_used)\n",
      "                          \n",
      "mname_attr = \\\n",
      "    generator.GenerateFreqAttribute(attribute_name = 'middle-name',\n",
      "                          freq_file_name = 'lookup-files/givenname_f_freq.csv',\n",
      "                          has_header_line = False,\n",
      "                          unicode_encoding = unicode_encoding_used)"
     ],
     "language": "python",
     "metadata": {},
     "outputs": [],
     "prompt_number": 3
    },
    {
     "cell_type": "code",
     "collapsed": false,
     "input": [
      "class AttrSet(object):\n",
      "    def __init__(self):\n",
      "        self.gname_attr = \\\n",
      "    generator.GenerateFuncAttribute(attribute_name = 'name-prefix',\n",
      "                       function = attrgenfunct.generate_name_prefix_f)\n",
      "        self.name_prefix_attr = \\\n",
      "    generator.GenerateFreqAttribute(attribute_name = 'given-name',\n",
      "                          freq_file_name = 'lookup-files/givenname_f_freq.csv',\n",
      "                          has_header_line = False,\n",
      "                          unicode_encoding = unicode_encoding_used)\n",
      "        self.mname_attr = \\\n",
      "    generator.GenerateFreqAttribute(attribute_name = 'middle-name',\n",
      "                          freq_file_name = 'lookup-files/givenname_f_freq.csv',\n",
      "                          has_header_line = False,\n",
      "                          unicode_encoding = unicode_encoding_used)\n",
      "        self.sname_attr = \\\n",
      "    generator.GenerateFreqAttribute(attribute_name = 'surname',\n",
      "                          freq_file_name = 'lookup-files/surname-freq.csv',\n",
      "                          has_header_line = False,\n",
      "                          unicode_encoding = unicode_encoding_used)\n",
      "        self.name_suffix_attr = \\\n",
      "  generator.GenerateFuncAttribute(attribute_name = 'name-suffix',\n",
      "                       function = attrgenfunct.generate_name_suffix)\n",
      "        \n",
      "        self.race_hispanic = \\\n",
      "    generator.GenerateFreqAlt(attribute_name = 'race-hispanic',\n",
      "                    freq_file_name = 'lookup-files/race_w_hispanic_ascii.csv',\n",
      "                    has_header_line = False,\n",
      "                    unicode_encoding = unicode_encoding_used)\n",
      "    \n",
      "    def output(self):\n",
      "        primary = [self.gname_attr, self.name_prefix_attr, self.mname_attr, \n",
      "                   self.sname_attr, self.name_suffix_attr]\n",
      "               \n",
      "        out = [attr.create_attribute_value() for attr in primary]\n",
      "        out.extend(self.race_hispanic.random_pick().split('..'))\n",
      "                   #random_pick())\n",
      "    \n",
      "        return out\n",
      "        \n",
      "        "
     ],
     "language": "python",
     "metadata": {},
     "outputs": [],
     "prompt_number": 7
    },
    {
     "cell_type": "code",
     "collapsed": false,
     "input": [
      "a = AttrSet()"
     ],
     "language": "python",
     "metadata": {},
     "outputs": [],
     "prompt_number": 8
    },
    {
     "cell_type": "code",
     "collapsed": false,
     "input": [
      "timeit a.name_prefix_attr.create_attribute_value()"
     ],
     "language": "python",
     "metadata": {},
     "outputs": [
      {
       "output_type": "stream",
       "stream": "stdout",
       "text": [
        "1000000 loops, best of 3: 656 ns per loop\n"
       ]
      }
     ],
     "prompt_number": 20
    },
    {
     "cell_type": "code",
     "collapsed": false,
     "input": [],
     "language": "python",
     "metadata": {},
     "outputs": [
      {
       "output_type": "stream",
       "stream": "stdout",
       "text": [
        "1000000 loops, best of 3: 630 ns per loop\n"
       ]
      }
     ],
     "prompt_number": 45
    },
    {
     "cell_type": "code",
     "collapsed": false,
     "input": [
      "a.output()"
     ],
     "language": "python",
     "metadata": {},
     "outputs": [
      {
       "metadata": {},
       "output_type": "pyout",
       "prompt_number": 9,
       "text": [
        "['Miss', u'emiily', u'makenzi', u'gyergyak', 'I', u'NOT HISPANIC', u'Asian']"
       ]
      }
     ],
     "prompt_number": 9
    },
    {
     "cell_type": "code",
     "collapsed": false,
     "input": [
      "timeit out = [a.output() for x in range(10)]\n"
     ],
     "language": "python",
     "metadata": {},
     "outputs": [
      {
       "output_type": "stream",
       "stream": "stdout",
       "text": [
        "10000 loops, best of 3: 68.8 \u00b5s per loop\n"
       ]
      }
     ],
     "prompt_number": 10
    },
    {
     "cell_type": "code",
     "collapsed": false,
     "input": [
      "def race_historgram():\n",
      "    \n",
      "    race_test1 = [a.race_hispanic.random_pick() for x in range(4000)]\n",
      "    race_set = {x for x in race_test1}\n",
      "    container = list()\n",
      "    for x in race_set:\n",
      "        container.append((x, race_test1.count(x)))\n",
      "    return container"
     ],
     "language": "python",
     "metadata": {},
     "outputs": [],
     "prompt_number": 12
    },
    {
     "cell_type": "code",
     "collapsed": false,
     "input": [
      "[x for x in a.iteritems()]"
     ],
     "language": "python",
     "metadata": {},
     "outputs": [
      {
       "ename": "AttributeError",
       "evalue": "'AttrSet' object has no attribute 'iteritems'",
       "output_type": "pyerr",
       "traceback": [
        "\u001b[0;31m---------------------------------------------------------------------------\u001b[0m\n\u001b[0;31mAttributeError\u001b[0m                            Traceback (most recent call last)",
        "\u001b[0;32m<ipython-input-15-1f26b686dfec>\u001b[0m in \u001b[0;36m<module>\u001b[0;34m()\u001b[0m\n\u001b[0;32m----> 1\u001b[0;31m \u001b[0;34m[\u001b[0m\u001b[0mx\u001b[0m \u001b[0;32mfor\u001b[0m \u001b[0mx\u001b[0m \u001b[0;32min\u001b[0m \u001b[0ma\u001b[0m\u001b[0;34m.\u001b[0m\u001b[0miteritems\u001b[0m\u001b[0;34m(\u001b[0m\u001b[0;34m)\u001b[0m\u001b[0;34m]\u001b[0m\u001b[0;34m\u001b[0m\u001b[0m\n\u001b[0m",
        "\u001b[0;31mAttributeError\u001b[0m: 'AttrSet' object has no attribute 'iteritems'"
       ]
      }
     ],
     "prompt_number": 15
    }
   ],
   "metadata": {}
  }
 ]
}